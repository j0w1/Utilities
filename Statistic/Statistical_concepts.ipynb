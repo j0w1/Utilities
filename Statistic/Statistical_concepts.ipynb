{
 "cells": [
  {
   "cell_type": "markdown",
   "id": "33d05900",
   "metadata": {},
   "source": [
    "# STATISTICAL CONCEPTS\n",
    "\n",
    "Throughout this notebook, various statistical concepts will be presented with examples. For that purpose, we are going to use the following dataset 'GLUCOSA_LEVELS.csv'.\n",
    "\n",
    "First of all, we need to import some libraries such as **Pandas**, **Numpy** and **Matplotlib**\n"
   ]
  },
  {
   "cell_type": "code",
   "execution_count": 1,
   "id": "f759c715",
   "metadata": {
    "ExecuteTime": {
     "end_time": "2023-04-13T09:46:00.671531Z",
     "start_time": "2023-04-13T09:45:59.148460Z"
    }
   },
   "outputs": [],
   "source": [
    "import pandas as pd\n",
    "import numpy as np\n",
    "import matplotlib.pyplot as plt"
   ]
  },
  {
   "cell_type": "markdown",
   "id": "44cfdcdf",
   "metadata": {},
   "source": [
    "Then, we can load the data"
   ]
  },
  {
   "cell_type": "code",
   "execution_count": 2,
   "id": "0f637d8a",
   "metadata": {},
   "outputs": [
    {
     "data": {
      "text/html": [
       "<div>\n",
       "<style scoped>\n",
       "    .dataframe tbody tr th:only-of-type {\n",
       "        vertical-align: middle;\n",
       "    }\n",
       "\n",
       "    .dataframe tbody tr th {\n",
       "        vertical-align: top;\n",
       "    }\n",
       "\n",
       "    .dataframe thead th {\n",
       "        text-align: right;\n",
       "    }\n",
       "</style>\n",
       "<table border=\"1\" class=\"dataframe\">\n",
       "  <thead>\n",
       "    <tr style=\"text-align: right;\">\n",
       "      <th></th>\n",
       "      <th>Grupo de control</th>\n",
       "      <th>Nivel glucosa basal</th>\n",
       "      <th>Nivel glucosa 60 min</th>\n",
       "    </tr>\n",
       "  </thead>\n",
       "  <tbody>\n",
       "    <tr>\n",
       "      <th>0</th>\n",
       "      <td>1</td>\n",
       "      <td>90</td>\n",
       "      <td>159</td>\n",
       "    </tr>\n",
       "    <tr>\n",
       "      <th>1</th>\n",
       "      <td>1</td>\n",
       "      <td>82</td>\n",
       "      <td>151</td>\n",
       "    </tr>\n",
       "    <tr>\n",
       "      <th>2</th>\n",
       "      <td>1</td>\n",
       "      <td>80</td>\n",
       "      <td>148</td>\n",
       "    </tr>\n",
       "    <tr>\n",
       "      <th>3</th>\n",
       "      <td>1</td>\n",
       "      <td>75</td>\n",
       "      <td>138</td>\n",
       "    </tr>\n",
       "    <tr>\n",
       "      <th>4</th>\n",
       "      <td>1</td>\n",
       "      <td>74</td>\n",
       "      <td>141</td>\n",
       "    </tr>\n",
       "    <tr>\n",
       "      <th>5</th>\n",
       "      <td>1</td>\n",
       "      <td>97</td>\n",
       "      <td>157</td>\n",
       "    </tr>\n",
       "    <tr>\n",
       "      <th>6</th>\n",
       "      <td>1</td>\n",
       "      <td>103</td>\n",
       "      <td>172</td>\n",
       "    </tr>\n",
       "  </tbody>\n",
       "</table>\n",
       "</div>"
      ],
      "text/plain": [
       "   Grupo de control  Nivel glucosa basal  Nivel glucosa 60 min\n",
       "0                 1                   90                   159\n",
       "1                 1                   82                   151\n",
       "2                 1                   80                   148\n",
       "3                 1                   75                   138\n",
       "4                 1                   74                   141\n",
       "5                 1                   97                   157\n",
       "6                 1                  103                   172"
      ]
     },
     "execution_count": 2,
     "metadata": {},
     "output_type": "execute_result"
    }
   ],
   "source": [
    "link=(r'GLUCOSA_LEVELS.csv')\n",
    "df = pd.read_csv(link, sep=';')\n",
    "df.head(7)"
   ]
  },
  {
   "cell_type": "markdown",
   "id": "373cac13",
   "metadata": {},
   "source": [
    "## Centrality measures"
   ]
  },
  {
   "cell_type": "markdown",
   "id": "c580f1fc",
   "metadata": {},
   "source": [
    "Before anything, we are going to split up the control groups into two different datasets."
   ]
  },
  {
   "cell_type": "code",
   "execution_count": 3,
   "id": "b8f4680f",
   "metadata": {
    "ExecuteTime": {
     "end_time": "2023-04-13T09:46:06.155734Z",
     "start_time": "2023-04-13T09:46:06.140788Z"
    }
   },
   "outputs": [],
   "source": [
    "GC1 = df[(df['Grupo de control']==1)]  \n",
    "GC2 = df[df['Grupo de control']==2]    \n"
   ]
  },
  {
   "cell_type": "markdown",
   "id": "4ff2e207",
   "metadata": {},
   "source": [
    "Or we can just use a groupby with the aggregation needed. For example, for the mean:"
   ]
  },
  {
   "cell_type": "code",
   "execution_count": 4,
   "id": "69c15c49",
   "metadata": {},
   "outputs": [
    {
     "data": {
      "text/html": [
       "<div>\n",
       "<style scoped>\n",
       "    .dataframe tbody tr th:only-of-type {\n",
       "        vertical-align: middle;\n",
       "    }\n",
       "\n",
       "    .dataframe tbody tr th {\n",
       "        vertical-align: top;\n",
       "    }\n",
       "\n",
       "    .dataframe thead th {\n",
       "        text-align: right;\n",
       "    }\n",
       "</style>\n",
       "<table border=\"1\" class=\"dataframe\">\n",
       "  <thead>\n",
       "    <tr style=\"text-align: right;\">\n",
       "      <th></th>\n",
       "      <th>Nivel glucosa basal</th>\n",
       "      <th>Nivel glucosa 60 min</th>\n",
       "    </tr>\n",
       "    <tr>\n",
       "      <th>Grupo de control</th>\n",
       "      <th></th>\n",
       "      <th></th>\n",
       "    </tr>\n",
       "  </thead>\n",
       "  <tbody>\n",
       "    <tr>\n",
       "      <th>1</th>\n",
       "      <td>84.7</td>\n",
       "      <td>150.4</td>\n",
       "    </tr>\n",
       "    <tr>\n",
       "      <th>2</th>\n",
       "      <td>89.4</td>\n",
       "      <td>171.8</td>\n",
       "    </tr>\n",
       "  </tbody>\n",
       "</table>\n",
       "</div>"
      ],
      "text/plain": [
       "                  Nivel glucosa basal  Nivel glucosa 60 min\n",
       "Grupo de control                                           \n",
       "1                                84.7                 150.4\n",
       "2                                89.4                 171.8"
      ]
     },
     "execution_count": 4,
     "metadata": {},
     "output_type": "execute_result"
    }
   ],
   "source": [
    "round(df.groupby('Grupo de control').mean(),1)"
   ]
  },
  {
   "cell_type": "markdown",
   "id": "cd21ac4e",
   "metadata": {},
   "source": [
    "### Mean"
   ]
  },
  {
   "cell_type": "code",
   "execution_count": 5,
   "id": "7f1c8bd2",
   "metadata": {},
   "outputs": [
    {
     "name": "stdout",
     "output_type": "stream",
     "text": [
      "The mean base glucose level for control group 1 is 84.7\n",
      "The mean base glucose level for control group 2 is 89.4\n"
     ]
    }
   ],
   "source": [
    "GC1_mean = round(GC1['Nivel glucosa basal'].mean(),1)  \n",
    "GC2_mean = round(GC2['Nivel glucosa basal'].mean(),1)  \n",
    "\n",
    "print('The mean base glucose level for control group 1 is',(GC1_mean))\n",
    "print('The mean base glucose level for control group 2 is',(GC2_mean))"
   ]
  },
  {
   "cell_type": "markdown",
   "id": "e6af0dc3",
   "metadata": {},
   "source": [
    "### Median & Percentiles"
   ]
  },
  {
   "cell_type": "code",
   "execution_count": 6,
   "id": "42ef471c",
   "metadata": {},
   "outputs": [
    {
     "name": "stdout",
     "output_type": "stream",
     "text": [
      "The median base glucose level for control group 1 is 82.0\n",
      "The median base glucose level for control group 2 is 90.0\n",
      "\n",
      "The 80th percentile base glucose level for control group 1 is 92.2\n",
      "The 80th percentile base glucose level for control group 2 is 95.2\n"
     ]
    }
   ],
   "source": [
    "GC1_median = round(GC1['Nivel glucosa basal'].median(),1)\n",
    "GC2_median = round(GC2['Nivel glucosa basal'].median(),1)\n",
    "\n",
    "GC1_80 = np.percentile((GC1['Nivel glucosa basal']),80)  #percentile 80 GC1\n",
    "GC2_80 = np.percentile((GC2['Nivel glucosa basal']),80)  #percentile 80 GC2\n",
    "\n",
    "print('The median base glucose level for control group 1 is', (GC1_median))\n",
    "print('The median base glucose level for control group 2 is', (GC2_median))\n",
    "print()\n",
    "print('The 80th percentile base glucose level for control group 1 is', (GC1_80))\n",
    "print('The 80th percentile base glucose level for control group 2 is', (GC2_80))"
   ]
  },
  {
   "cell_type": "markdown",
   "id": "d665c7b6",
   "metadata": {},
   "source": [
    "### Mode"
   ]
  },
  {
   "cell_type": "code",
   "execution_count": 7,
   "id": "20e8c6dc",
   "metadata": {},
   "outputs": [
    {
     "name": "stdout",
     "output_type": "stream",
     "text": [
      "The mode base glucose level for control group 1 is 75,79,82,90\n",
      "The mode base glucose level for control group 2 is 88\n"
     ]
    }
   ],
   "source": [
    "GC1_mode = [i for i in GC1['Nivel glucosa basal'].mode()]\n",
    "GC2_mode = [i for i in GC2['Nivel glucosa basal'].mode()]\n",
    "\n",
    "print('The mode base glucose level for control group 1 is', ','.join(map(str, GC1_mode)))\n",
    "print('The mode base glucose level for control group 2 is', ','.join(map(str, GC2_mode)))\n"
   ]
  },
  {
   "cell_type": "markdown",
   "id": "9492172c",
   "metadata": {},
   "source": [
    "## Dispersion measures:"
   ]
  },
  {
   "cell_type": "markdown",
   "id": "1b6ff07b",
   "metadata": {},
   "source": [
    "### Range"
   ]
  },
  {
   "cell_type": "code",
   "execution_count": 8,
   "id": "4a5a1d6d",
   "metadata": {},
   "outputs": [
    {
     "name": "stdout",
     "output_type": "stream",
     "text": [
      "Absolute maximum base glucose value for control group 1 is: 103\n",
      "Absolute minimum base glucose value for control group 1 is: 65\n",
      "Range for control group 1 is: 38\n",
      "\n",
      "Absolute maximum base glucose value for control group 2 is: 104\n",
      "Absolute minimum base glucose value for control group 2 is: 77\n",
      "Range for control group 2 is: 27\n"
     ]
    }
   ],
   "source": [
    "GC1_max = max(GC1['Nivel glucosa basal'])  \n",
    "GC1_min = min(GC1['Nivel glucosa basal'])  \n",
    "GC1_range = GC1_max - GC1_min    \n",
    "\n",
    "print(f'Absolute maximum base glucose value for control group 1 is: {GC1_max}')\n",
    "print(f'Absolute minimum base glucose value for control group 1 is: {GC1_min}')\n",
    "print(f'Range for control group 1 is: {GC1_range}')\n",
    "\n",
    "print()\n",
    "\n",
    "GC2_max = max(GC2['Nivel glucosa basal'])  \n",
    "GC2_min = min(GC2['Nivel glucosa basal'])  \n",
    "GC2_range = GC2_max - GC2_min    \n",
    "\n",
    "print(f'Absolute maximum base glucose value for control group 2 is: {GC2_max}')\n",
    "print(f'Absolute minimum base glucose value for control group 2 is: {GC2_min}')\n",
    "print(f'Range for control group 2 is: {GC2_range}')"
   ]
  },
  {
   "cell_type": "markdown",
   "id": "d9e9bfbb",
   "metadata": {},
   "source": [
    "### Interquartile range"
   ]
  },
  {
   "cell_type": "code",
   "execution_count": 9,
   "id": "1bf3753f",
   "metadata": {},
   "outputs": [
    {
     "name": "stdout",
     "output_type": "stream",
     "text": [
      "Value of Quartile 3 in control group 1: 90.5 \n",
      "Value of Quartile 1 in control group 1: 78.5 \n",
      "Interquartile range in control group 1: 12.0 \n",
      "\n",
      "Value of Quartile 3 in control group 2: 94.0 \n",
      "Value of Quartile 1 in control group 2: 84.5 \n",
      "Interquartile range in control group 2: 9.5 \n"
     ]
    }
   ],
   "source": [
    "GC1_Q3 = np.percentile((GC1['Nivel glucosa basal']),75)   #Quartile 3 GC1\n",
    "GC1_Q1 = np.percentile((GC1['Nivel glucosa basal']),25)   #Quartile 1 GC1\n",
    "RIQ_GC1 = GC1_Q3 - GC1_Q1      #IQR GC1\n",
    "GC2_Q3 = np.percentile((GC2['Nivel glucosa basal']),75)   #Quartile 3 GC2\n",
    "GC2_Q1 = np.percentile((GC2['Nivel glucosa basal']),25)   #Quartile 1 GC2\n",
    "RIQ_GC2 = GC2_Q3 - GC2_Q1      #IQR GC2\n",
    "\n",
    "print(f'Value of Quartile 3 in control group 1: {GC1_Q3} ')\n",
    "print(f'Value of Quartile 1 in control group 1: {GC1_Q1} ')\n",
    "print(f'Interquartile range in control group 1: {RIQ_GC1} ')\n",
    "print()\n",
    "print(f'Value of Quartile 3 in control group 2: {GC2_Q3} ')\n",
    "print(f'Value of Quartile 1 in control group 2: {GC2_Q1} ')\n",
    "print(f'Interquartile range in control group 2: {RIQ_GC2} ')"
   ]
  },
  {
   "cell_type": "markdown",
   "id": "50ec4cb3",
   "metadata": {},
   "source": [
    "### Variance, Standard Deviation & Coefficient of Variation"
   ]
  },
  {
   "cell_type": "code",
   "execution_count": 10,
   "id": "26754429",
   "metadata": {},
   "outputs": [
    {
     "name": "stdout",
     "output_type": "stream",
     "text": [
      "Variance of control group 1 is 78.2\n",
      "Variance of control group 2 is 54.0\n",
      "\n",
      "Standard deviation of control group 1 is 8.8\n",
      "Standard deviation of control group 2 is 7.3\n",
      "\n",
      "Coefficient of variation of control group 1 is: 0.1\n",
      "Coefficient of variation of control group 2 is: 0.08\n"
     ]
    }
   ],
   "source": [
    "#Variance\n",
    "GC1_var = round(GC1['Nivel glucosa basal'].var(),1)    #Variance GC1\n",
    "GC2_var = round(GC2['Nivel glucosa basal'].var(),1)    #Variance GC2\n",
    "#Standard Deviation\n",
    "GC1_std = round(GC1['Nivel glucosa basal'].std(),1)    #Std. Dev. GC1\n",
    "GC2_std = round(GC2['Nivel glucosa basal'].std(),1)    #Std. Dev. GC2\n",
    "#Coefficient of Variation\n",
    "GC1_cv = round(GC1_std/GC1_mean,2)    #CV GC1\n",
    "GC2_cv = round(GC2_std/GC2_mean,2)    #CV GC2\n",
    "\n",
    "print(f'Variance of control group 1 is {GC1_var}')\n",
    "print(f'Variance of control group 2 is {GC2_var}')\n",
    "print()\n",
    "print(f'Standard deviation of control group 1 is {GC1_std}')\n",
    "print(f'Standard deviation of control group 2 is {GC2_std}')\n",
    "print()\n",
    "print(f'Coefficient of variation of control group 1 is: {GC1_cv}')\n",
    "print(f'Coefficient of variation of control group 2 is: {GC2_cv}')"
   ]
  },
  {
   "cell_type": "markdown",
   "id": "2dc19ab7",
   "metadata": {},
   "source": [
    "**RESUME**"
   ]
  },
  {
   "cell_type": "code",
   "execution_count": 11,
   "id": "f83c9787",
   "metadata": {
    "ExecuteTime": {
     "end_time": "2023-04-13T09:46:14.976013Z",
     "start_time": "2023-04-13T09:46:14.948275Z"
    }
   },
   "outputs": [
    {
     "data": {
      "text/html": [
       "<div>\n",
       "<style scoped>\n",
       "    .dataframe tbody tr th:only-of-type {\n",
       "        vertical-align: middle;\n",
       "    }\n",
       "\n",
       "    .dataframe tbody tr th {\n",
       "        vertical-align: top;\n",
       "    }\n",
       "\n",
       "    .dataframe thead th {\n",
       "        text-align: right;\n",
       "    }\n",
       "</style>\n",
       "<table border=\"1\" class=\"dataframe\">\n",
       "  <thead>\n",
       "    <tr style=\"text-align: right;\">\n",
       "      <th></th>\n",
       "      <th>Control Group</th>\n",
       "      <th>Maximum Value</th>\n",
       "      <th>Minimum Value</th>\n",
       "      <th>Range</th>\n",
       "      <th>Q1</th>\n",
       "      <th>Q3</th>\n",
       "      <th>Interquartile Range</th>\n",
       "      <th>Variance</th>\n",
       "      <th>Standard Deviation</th>\n",
       "      <th>Coefficient of variation</th>\n",
       "    </tr>\n",
       "  </thead>\n",
       "  <tbody>\n",
       "    <tr>\n",
       "      <th>0</th>\n",
       "      <td>Youth (1)</td>\n",
       "      <td>103</td>\n",
       "      <td>65</td>\n",
       "      <td>38</td>\n",
       "      <td>78.5</td>\n",
       "      <td>90.5</td>\n",
       "      <td>12.0</td>\n",
       "      <td>78.2</td>\n",
       "      <td>8.8</td>\n",
       "      <td>0.10</td>\n",
       "    </tr>\n",
       "    <tr>\n",
       "      <th>1</th>\n",
       "      <td>Adults (2)</td>\n",
       "      <td>104</td>\n",
       "      <td>77</td>\n",
       "      <td>27</td>\n",
       "      <td>84.5</td>\n",
       "      <td>94.0</td>\n",
       "      <td>9.5</td>\n",
       "      <td>54.0</td>\n",
       "      <td>7.3</td>\n",
       "      <td>0.08</td>\n",
       "    </tr>\n",
       "  </tbody>\n",
       "</table>\n",
       "</div>"
      ],
      "text/plain": [
       "  Control Group  Maximum Value  Minimum Value  Range    Q1    Q3  \\\n",
       "0     Youth (1)            103             65     38  78.5  90.5   \n",
       "1    Adults (2)            104             77     27  84.5  94.0   \n",
       "\n",
       "   Interquartile Range  Variance  Standard Deviation  Coefficient of variation  \n",
       "0                 12.0      78.2                 8.8                      0.10  \n",
       "1                  9.5      54.0                 7.3                      0.08  "
      ]
     },
     "execution_count": 11,
     "metadata": {},
     "output_type": "execute_result"
    }
   ],
   "source": [
    "dispersion = pd.DataFrame({'Control Group': ['Youth (1)', 'Adults (2)'],\n",
    "         'Maximum Value': [GC1_max, GC2_max],\n",
    "         'Minimum Value': [GC1_min, GC2_min],\n",
    "         'Range': [GC1_range, GC2_range],\n",
    "         'Q1': [GC1_Q1, GC2_Q1],\n",
    "         'Q3': [GC1_Q3, GC2_Q3],\n",
    "         'Interquartile Range': [RIQ_GC1, RIQ_GC2],\n",
    "         'Variance': [GC1_var, GC2_var],\n",
    "         'Standard Deviation': [GC1_std, GC2_std],\n",
    "         'Coefficient of variation':[GC1_cv, GC2_cv]}\n",
    ")\n",
    "\n",
    "dispersion"
   ]
  },
  {
   "cell_type": "markdown",
   "id": "2cd3b138",
   "metadata": {},
   "source": [
    "In both cases the mean is representative, due to a coefficient of variation lower than 0.3. Besides, we can ensure that is more representative in control group 2 than control group 1, since its cv is lower."
   ]
  },
  {
   "cell_type": "markdown",
   "id": "7b739507",
   "metadata": {},
   "source": [
    "## Skewness & kurtosis\n",
    "\n",
    "On the one hand, a skewness of 0 indicates a symmetric distribution. Negative skewness denotes a left-skewed distribution, while positive skewness indicates a right-skewed distribution.\n",
    "\n",
    "On the other hand, a kurtosis of 0 indicates a mesokurtic distribution. Negative kurtosis denotes a leptokurtic distribution, while positive kurtosis indicates a platykurtic distribution."
   ]
  },
  {
   "cell_type": "code",
   "execution_count": 12,
   "id": "e6a03e3f",
   "metadata": {
    "ExecuteTime": {
     "end_time": "2023-04-13T09:46:25.073096Z",
     "start_time": "2023-04-13T09:46:25.054087Z"
    }
   },
   "outputs": [
    {
     "name": "stdout",
     "output_type": "stream",
     "text": [
      "The skewness coefficient of the basal glucose level in Control Group 2 is: -0.0075\n",
      "The distribution is negatively skewed\n",
      "\n",
      "The kurtosis coefficient of the basal glucose level in Control Group 2 is: -0.6127\n",
      "The distribution is negatively skewed platykurtic\n"
     ]
    },
    {
     "data": {
      "image/png": "[encoded data removed]",
      "text/plain": [
       "<Figure size 500x300 with 1 Axes>"
      ]
     },
     "metadata": {},
     "output_type": "display_data"
    }
   ],
   "source": [
    "GC2_GB = df['Nivel glucosa basal'][df['Grupo de control']==2].reset_index(drop=True)\n",
    "\n",
    "#Skewness\n",
    "skew = GC2_GB.skew()\n",
    "print(f'The skewness coefficient of the basal glucose level in Control Group 2 is: {round(skew,4)}')\n",
    "if skew == 0:\n",
    "    print('The distribution is symmetric')\n",
    "elif skew > 0:\n",
    "    print('The distribution is positively skewed')\n",
    "elif skew < 0:\n",
    "    print('The distribution is negatively skewed')\n",
    "\n",
    "print()\n",
    "\n",
    "#Kurtosis\n",
    "kurt = GC2_GB.kurt()\n",
    "print(f'The kurtosis coefficient of the basal glucose level in Control Group 2 is: {round(kurt,4)}')\n",
    "if kurt == 0:\n",
    "    print('The distribution is mesokurtic')\n",
    "elif kurt > 0:\n",
    "    print('The distribution is positively skewed leptokurtic')\n",
    "elif kurt < 0:\n",
    "    print('The distribution is negatively skewed platykurtic')\n",
    "\n",
    "#Graphically\n",
    "fig = plt.figure(figsize=(5,3))\n",
    "plt.hist(GC2_GB)\n",
    "plt.title('Histogram of Base Glucose Level for Control Group 2')\n",
    "plt.xlabel('Base Glucose Level')\n",
    "plt.ylabel('Frequency')\n",
    "plt.show()"
   ]
  },
  {
   "cell_type": "markdown",
   "id": "3781d42c",
   "metadata": {},
   "source": [
    "We can confirm the results obtained before with a simple check:\n",
    "\n",
    "-    **If mean < median, it implies a negative skewness.**\n",
    "\n",
    "In this case, the mean is 89.4 and the median is 90, suggesting a negative skewness."
   ]
  },
  {
   "cell_type": "markdown",
   "id": "e8f963be",
   "metadata": {},
   "source": [
    "## Quartiles, box-plot & outliers"
   ]
  },
  {
   "cell_type": "code",
   "execution_count": 13,
   "id": "5d77e7df",
   "metadata": {
    "ExecuteTime": {
     "end_time": "2023-04-13T09:46:35.408133Z",
     "start_time": "2023-04-13T09:46:35.386205Z"
    }
   },
   "outputs": [],
   "source": [
    "GC1_GB = df['Nivel glucosa basal'][df['Grupo de control']==1].reset_index(drop=True)\n",
    "GC1_GBA = df['Nivel glucosa 60 min'][df['Grupo de control']==1].reset_index(drop=True)"
   ]
  },
  {
   "cell_type": "code",
   "execution_count": 14,
   "id": "c57426fd",
   "metadata": {},
   "outputs": [
    {
     "name": "stdout",
     "output_type": "stream",
     "text": [
      "                     Q1     Q2     Q3  Interquartile range\n",
      "Glucose level                                             \n",
      "Basal              78.5   82.0   90.5                 12.0\n",
      "After 60 minutes  146.5  150.0  154.5                  8.0\n"
     ]
    },
    {
     "data": {
      "image/png": "[encoded data removed]",
      "text/plain": [
       "<Figure size 1000x500 with 2 Axes>"
      ]
     },
     "metadata": {},
     "output_type": "display_data"
    }
   ],
   "source": [
    "GB_QUARTILES = [np.percentile((GC1_GB),n) for n in [25,50,75]]\n",
    "GBA_QUARTILES = [np.percentile((GC1_GBA),n) for n in [25,50,75]]\n",
    "\n",
    "GB_Q_df = pd.DataFrame({'Glucose level': ['Basal','After 60 minutes'],\n",
    "         'Q1': [GB_QUARTILES[0], GBA_QUARTILES[0]],\n",
    "         'Q2': [GB_QUARTILES[1], GBA_QUARTILES[1]],                \n",
    "         'Q3': [GB_QUARTILES[2], GBA_QUARTILES[2]],\n",
    "         'Interquartile range': [(GB_QUARTILES[2] - GB_QUARTILES[0]),(GBA_QUARTILES[2] - GBA_QUARTILES[0])]}\n",
    ").set_index('Glucose level')\n",
    "\n",
    "print(GB_Q_df)\n",
    "\n",
    "fig, (ax1,ax2) = plt.subplots(1,2, sharey=True, figsize=(10,5))\n",
    "\n",
    "ax1.boxplot(GC1_GB, vert=True)\n",
    "ax1.set_xticklabels([])\n",
    "ax1.set_ylabel('Glucose level')\n",
    "ax1.set_title('Boxplot\\nBasal Glucose Level in Control Group 1')\n",
    "\n",
    "ax2.boxplot(GC1_GBA, vert=True)\n",
    "ax2.set_xticklabels([])\n",
    "ax2.set_title('Boxplot\\nGlucose Level after 60 minutes in Control Group 1')\n",
    "\n",
    "plt.tight_layout(pad=3.0)\n",
    "plt.show()"
   ]
  },
  {
   "cell_type": "markdown",
   "id": "44ebbb0c",
   "metadata": {},
   "source": [
    "At first, box-plot is formed by:\n",
    "\n",
    "- A box, where the orange horizontal line represents the median while lower and upper limits represent the first and third quartiles, respectively.\n",
    "- Whiskers, where the lower limit is 1.5 times smaller than the first quartile, and the upper limit is 1.5 times greater than the third quartile. All points outside these whiskers are known as outliers.\n",
    "\n",
    "As we can see, the basal glucose level does not present outliers, whereas the level after 60 minutes does.\n",
    "\n"
   ]
  },
  {
   "cell_type": "markdown",
   "id": "00f73e3a",
   "metadata": {},
   "source": [
    "## Normality test"
   ]
  },
  {
   "cell_type": "markdown",
   "id": "3db95693",
   "metadata": {},
   "source": [
    "Data normality can be checked throughout different methods. In our case, we are going to use the following ones:\n",
    "\n",
    "- Data visualization (histogram & Q-Q plot)\n",
    "- Shapiro-Wilk normality test (used for small samples)"
   ]
  },
  {
   "cell_type": "markdown",
   "id": "3fa1944b",
   "metadata": {},
   "source": [
    "### Data visualization\n",
    "#### Histogram"
   ]
  },
  {
   "cell_type": "code",
   "execution_count": 15,
   "id": "a8c9e380",
   "metadata": {},
   "outputs": [
    {
     "data": {
      "image/png": "[encoded data removed]",
      "text/plain": [
       "<Figure size 1000x600 with 2 Axes>"
      ]
     },
     "metadata": {},
     "output_type": "display_data"
    }
   ],
   "source": [
    "GC1_GBA = df['Nivel glucosa 60 min'][df['Grupo de control']==1].reset_index(drop=True)\n",
    "GC2_GBA = df['Nivel glucosa 60 min'][df['Grupo de control']==2].reset_index(drop=True)\n",
    "\n",
    "fig, (ax1,ax2) = plt.subplots(1, 2, figsize=(10,6))\n",
    "\n",
    "#GC1\n",
    "ax1.hist(GC1_GBA)\n",
    "ax1.set_title('Histogram of frequences\\nGlucose level after 60 minutes in kids')\n",
    "ax1.set_ylabel('Frequency')\n",
    "\n",
    "#GC2\n",
    "ax2.hist(GC2_GBA)\n",
    "ax2.set_title('Histogram of frequences\\nGlucose level after 60 minutes in adults')\n",
    "ax2.set_ylabel('Frequency')\n",
    "\n",
    "plt.tight_layout(pad=3.0)\n",
    "plt.show()\n",
    "\n"
   ]
  },
  {
   "cell_type": "markdown",
   "id": "61ed2fe7",
   "metadata": {},
   "source": [
    "Observing the histogram, we can appreciate a slight resemblance to the normal distribution in both cases, but in neither of them can we say it is conclusive."
   ]
  },
  {
   "cell_type": "markdown",
   "id": "604a115d",
   "metadata": {},
   "source": [
    "#### Q-Q PLOT"
   ]
  },
  {
   "cell_type": "code",
   "execution_count": 16,
   "id": "cf679f1a",
   "metadata": {},
   "outputs": [
    {
     "data": {
      "image/png": "[encoded data removed]",
      "text/plain": [
       "<Figure size 1200x400 with 2 Axes>"
      ]
     },
     "metadata": {},
     "output_type": "display_data"
    }
   ],
   "source": [
    "import statsmodels.api as sm\n",
    "import matplotlib.pyplot as plt\n",
    "\n",
    "data1 = np.array(GC1_GBA)\n",
    "data2 = np.array(GC2_GBA)\n",
    "\n",
    "fig, axs = plt.subplots(1,2, figsize=(12,4))\n",
    "\n",
    "#GC1\n",
    "sm.graphics.qqplot(GC1['Nivel glucosa basal'], line='s', ax=axs[0])\n",
    "axs[0].set_title('Q-Q Plot\\nControl Group 1')\n",
    "#GC2\n",
    "sm.graphics.qqplot(GC2['Nivel glucosa basal'], line='s', ax=axs[1])\n",
    "axs[1].set_title('Q-Q Plot\\nControl Group 2')\n",
    "plt.show()\n",
    "\n",
    "fig.tight_layout()"
   ]
  },
  {
   "cell_type": "markdown",
   "id": "388d8ad9",
   "metadata": {},
   "source": [
    "Once the Q-Q plot is plotted, the trend of normal distribution continues to be confirmed.\n",
    "\n",
    "The red line represents the theoretical data of a normal distribution, while the blue points are the actual data of our distribution.\n",
    "\n",
    "As we can see, the actual and theoretical data are quite similar, which leads us to believe that both control groups follow a normal distribution."
   ]
  },
  {
   "cell_type": "markdown",
   "id": "2bf143cc",
   "metadata": {},
   "source": [
    "### Shapiro-Wilk normality test"
   ]
  },
  {
   "cell_type": "markdown",
   "id": "3fe7b9d6",
   "metadata": {},
   "source": [
    "H₀: The data appears to follow a normal distribution\n",
    "\n",
    "H₁: The data does not appear to follow a normal distribution\n",
    "\n",
    "Confidence level = 95%; alpha = 0.05\n",
    "\n",
    "If p1 > 0.05 --> The data for Control Group 1 appears to follow a normal distribution\n",
    "If p1 < 0.05 --> The data for Control Group 1 does not appear to follow a normal distribution\n",
    "\n",
    "If p2 > 0.05 --> The data for Control Group 2 appears to follow a normal distribution\n",
    "If p2 < 0.05 --> The data for Control Group 2 does not appear to follow a normal distribution"
   ]
  },
  {
   "cell_type": "code",
   "execution_count": 17,
   "id": "45a7e304",
   "metadata": {},
   "outputs": [
    {
     "name": "stdout",
     "output_type": "stream",
     "text": [
      "p1 =  0.2734089195728302\n",
      "p2 =  0.7591866254806519\n",
      "\n",
      "The data for Control Group 1 appears to follow a normal distribution (p1 > 0.05).\n",
      "The data for Control Group 2 appears to follow a normal distribution (p2 > 0.05).\n"
     ]
    }
   ],
   "source": [
    "from scipy.stats import shapiro\n",
    "\n",
    "GC1_GBA = df['Nivel glucosa 60 min'][df['Grupo de control']==1].reset_index(drop=True)\n",
    "GC2_GBA = df['Nivel glucosa 60 min'][df['Grupo de control']==2].reset_index(drop=True)\n",
    "\n",
    "#Execute Shapiro-Wilk normality test\n",
    "stat1, p1 = shapiro(GC1_GBA)\n",
    "stat2, p2 = shapiro(GC2_GBA)\n",
    "print('p1 = ',p1)\n",
    "print('p2 = ',p2)\n",
    "\n",
    "print()\n",
    "\n",
    "#Interpret results\n",
    "alpha = 0.05\n",
    "if p1 > alpha:\n",
    "    print(\"The data for Control Group 1 appears to follow a normal distribution (p1 > 0.05).\")\n",
    "else:\n",
    "    print(\"The data for Control Group 1 does not follow a normal distribution.\")\n",
    "\n",
    "if p2 > alpha:\n",
    "    print(\"The data for Control Group 2 appears to follow a normal distribution (p2 > 0.05).\")\n",
    "else:\n",
    "    print(\"The data for Control Group 2 does not follow a normal distribution.\")"
   ]
  },
  {
   "cell_type": "markdown",
   "id": "b551a0b7",
   "metadata": {},
   "source": [
    "Finally, the Shapiro-Wilk test continues to confirm that both control groups appear to follow a normal distribution.\n",
    "\n",
    "Due to the consistency of the tests conducted, we can affirm that both control groups follow a normal distribution."
   ]
  },
  {
   "cell_type": "markdown",
   "id": "e87da7e8",
   "metadata": {},
   "source": [
    "## Linear relationship"
   ]
  },
  {
   "cell_type": "markdown",
   "id": "815a5fc4",
   "metadata": {},
   "source": [
    "To study the relationship between two variables we can use two methods:\n",
    "- Graphical method, through a scatter plot\n",
    "- Calculation of covariance and correlation coefficient"
   ]
  },
  {
   "cell_type": "markdown",
   "id": "9b488765",
   "metadata": {},
   "source": [
    "### Graphical method"
   ]
  },
  {
   "cell_type": "code",
   "execution_count": 85,
   "id": "cd1e400e",
   "metadata": {},
   "outputs": [
    {
     "data": {
      "image/png": "[encoded data removed]",
      "text/plain": [
       "<Figure size 640x480 with 1 Axes>"
      ]
     },
     "metadata": {},
     "output_type": "display_data"
    }
   ],
   "source": [
    "GC1_GB = df['Nivel glucosa basal'][df['Grupo de control']==1].reset_index(drop=True)\n",
    "GC1_GBA = df['Nivel glucosa 60 min'][df['Grupo de control']==1].reset_index(drop=True)\n",
    "\n",
    "# Plot\n",
    "plt.scatter(GC1_GB, GC1_GBA)\n",
    "plt.title('Scatter Plot\\nBasal Glucose Level and Glucose Level after 60 minutes in Control Group 1')\n",
    "plt.xlabel('Basal Glucose Level')\n",
    "plt.ylabel('Glucose Level after 60 minutes')\n",
    "plt.show()"
   ]
  },
  {
   "cell_type": "markdown",
   "id": "b01e12de",
   "metadata": {},
   "source": [
    "Graphically, we can infer a positive relationship between both variables, as higher values of 'x' are associated with higher values of 'y', and vice versa."
   ]
  },
  {
   "cell_type": "markdown",
   "id": "731814a6",
   "metadata": {},
   "source": [
    "### Covariance"
   ]
  },
  {
   "cell_type": "code",
   "execution_count": 48,
   "id": "c2636e60",
   "metadata": {},
   "outputs": [
    {
     "name": "stdout",
     "output_type": "stream",
     "text": [
      "The covariance between both variables is 54.51\n"
     ]
    }
   ],
   "source": [
    "cov = df[df['Grupo de control']==1][['Nivel glucosa basal','Nivel glucosa 60 min']].cov()\n",
    "print(f'The covariance between both variables is', round(cov['Nivel glucosa basal'][1],2))"
   ]
  },
  {
   "cell_type": "markdown",
   "id": "86a42d22",
   "metadata": {},
   "source": [
    "Nevertheless, this level of covariance is affected by the data size. To observe the true relationship between both variables, it is necessary to calculate the correlation coefficient."
   ]
  },
  {
   "cell_type": "markdown",
   "id": "4c60dd21",
   "metadata": {},
   "source": [
    "### Correlation coefficient"
   ]
  },
  {
   "cell_type": "code",
   "execution_count": 50,
   "id": "b887580e",
   "metadata": {},
   "outputs": [
    {
     "name": "stdout",
     "output_type": "stream",
     "text": [
      "The correlation coefficient between both variables is 0.8\n"
     ]
    }
   ],
   "source": [
    "#Correlation\n",
    "corr_mat = df[df['Grupo de control']==1][['Nivel glucosa basal','Nivel glucosa 60 min']].corr()\n",
    "corr = corr_mat.loc['Nivel glucosa basal', 'Nivel glucosa 60 min']\n",
    "print(f'The correlation coefficient between both variables is {round(corr,2)}')"
   ]
  },
  {
   "cell_type": "markdown",
   "id": "3f25133d",
   "metadata": {},
   "source": [
    "Now that we know that correlation coefficient is 0.8, we can confirm that the relationship between both variables is high and positive."
   ]
  },
  {
   "cell_type": "markdown",
   "id": "f363fc94",
   "metadata": {},
   "source": [
    "## Linear model"
   ]
  },
  {
   "cell_type": "markdown",
   "id": "f26e808e",
   "metadata": {},
   "source": [
    "We want to predict what would be the glucose level after 60 minutes, knowing the basal glucose level. For that, we are going to create a linear model as follows:\n",
    "\n",
    "GA60 = β₀ + β₁GB            \n",
    "\n",
    "Where GA60 is the glucose level after 60 minutes and GB is the basal glucose level."
   ]
  },
  {
   "cell_type": "code",
   "execution_count": 70,
   "id": "8306db74",
   "metadata": {},
   "outputs": [
    {
     "name": "stdout",
     "output_type": "stream",
     "text": [
      "Coefficient of determination (R2): 0.6342613328740883\n",
      "\n",
      "Intercept (β₀): 91.38365347428129\n",
      "Slope (β₁): 0.6968866829960038\n"
     ]
    }
   ],
   "source": [
    "from sklearn.linear_model import LinearRegression\n",
    "\n",
    "x = np.array(df[df['Grupo de control'] == 1]['Nivel glucosa basal']).reshape(-1,1)\n",
    "y = np.array(df[df['Grupo de control'] == 1]['Nivel glucosa 60 min'])\n",
    "model = LinearRegression().fit(x,y)\n",
    "\n",
    "r_sq = model.score(x, y)\n",
    "print(f\"Coefficient of determination (R2): {r_sq}\")\n",
    "\n",
    "print()\n",
    "\n",
    "print(\"Intercept (β₀):\", model.intercept_)\n",
    "print(\"Slope (β₁):\", model.coef_[0])"
   ]
  },
  {
   "cell_type": "markdown",
   "id": "af6a2550",
   "metadata": {},
   "source": [
    "With the results obtained, assuming that basal glucose level is a significant variable, the model looks as follows:\n",
    "\n",
    "GA60 = 93.61471283194162 + 0.767630829954622 * GB\n",
    "\n",
    "In short, for every basal glucose unit increased, the glucose level after 60 minuts increases by 0.7676 units."
   ]
  },
  {
   "cell_type": "markdown",
   "id": "56810c1e",
   "metadata": {},
   "source": [
    "### Prediction"
   ]
  },
  {
   "cell_type": "code",
   "execution_count": 84,
   "id": "492ba61f",
   "metadata": {
    "ExecuteTime": {
     "end_time": "2023-04-13T10:11:16.891841Z",
     "start_time": "2023-04-13T10:11:16.871892Z"
    }
   },
   "outputs": [
    {
     "name": "stdout",
     "output_type": "stream",
     "text": [
      "For a basal glucose level of 83 mg/dl, the estimated glucose level after 60 minutes is 149.2 mg/dl\n"
     ]
    }
   ],
   "source": [
    "# Having a GB of 83\n",
    "\n",
    "GB = np.array([83]).reshape(-1,1)\n",
    "GA60 = model.predict(GB)\n",
    "\n",
    "print(f'For a basal glucose level of 83 mg/dl, the estimated glucose level after 60 minutes is {round(GA60[0],1)} mg/dl')"
   ]
  },
  {
   "cell_type": "markdown",
   "id": "c0a901ac",
   "metadata": {},
   "source": [
    "If we check it with real data, we can see how the prediction is quite accurate:"
   ]
  },
  {
   "cell_type": "code",
   "execution_count": 83,
   "id": "717935a4",
   "metadata": {},
   "outputs": [
    {
     "data": {
      "text/html": [
       "<div>\n",
       "<style scoped>\n",
       "    .dataframe tbody tr th:only-of-type {\n",
       "        vertical-align: middle;\n",
       "    }\n",
       "\n",
       "    .dataframe tbody tr th {\n",
       "        vertical-align: top;\n",
       "    }\n",
       "\n",
       "    .dataframe thead th {\n",
       "        text-align: right;\n",
       "    }\n",
       "</style>\n",
       "<table border=\"1\" class=\"dataframe\">\n",
       "  <thead>\n",
       "    <tr style=\"text-align: right;\">\n",
       "      <th></th>\n",
       "      <th>Grupo de control</th>\n",
       "      <th>Nivel glucosa basal</th>\n",
       "      <th>Nivel glucosa 60 min</th>\n",
       "    </tr>\n",
       "  </thead>\n",
       "  <tbody>\n",
       "    <tr>\n",
       "      <th>10</th>\n",
       "      <td>1</td>\n",
       "      <td>83</td>\n",
       "      <td>147</td>\n",
       "    </tr>\n",
       "  </tbody>\n",
       "</table>\n",
       "</div>"
      ],
      "text/plain": [
       "    Grupo de control  Nivel glucosa basal  Nivel glucosa 60 min\n",
       "10                 1                   83                   147"
      ]
     },
     "execution_count": 83,
     "metadata": {},
     "output_type": "execute_result"
    }
   ],
   "source": [
    "df[(df['Grupo de control'] == 1)&(df['Nivel glucosa basal'] == 83)]"
   ]
  },
  {
   "cell_type": "markdown",
   "id": "20bdc617",
   "metadata": {},
   "source": [
    "## Confidence interval"
   ]
  },
  {
   "cell_type": "markdown",
   "id": "923b0047",
   "metadata": {},
   "source": [
    "To study confidence intervals, we want to determine whether we can assert that the mean blood basal glucose level of the young population is 88 mg/dl, with a confidence level of 95% and 99%."
   ]
  },
  {
   "cell_type": "code",
   "execution_count": 25,
   "id": "a6d1d214",
   "metadata": {},
   "outputs": [],
   "source": [
    "import scipy.stats as st"
   ]
  },
  {
   "cell_type": "code",
   "execution_count": 86,
   "id": "b683db48",
   "metadata": {},
   "outputs": [
    {
     "name": "stdout",
     "output_type": "stream",
     "text": [
      "The 95% confidence interval for the mean blood glucose level of the young population is: (81.64758693301904, 87.72384163840952)\n",
      "\n",
      "The 99% confidence interval for the mean blood glucose level of the young population is: (80.60686967940265, 88.76455889202592)\n"
     ]
    }
   ],
   "source": [
    "GC1_GB = df['Nivel glucosa basal'][df['Grupo de control']==1].reset_index(drop=True)\n",
    "\n",
    "IC95 = st.t.interval(confidence=0.95, df=len(GC1_GB)-1, loc=np.mean(GC1_GB), scale=st.sem(GC1_GB))\n",
    "print(f'The 95% confidence interval for the mean blood glucose level of the young population is: {IC95}')\n",
    "print()\n",
    "IC99 = st.t.interval(confidence=0.99, df=len(GC1_GB)-1, loc=np.mean(GC1_GB), scale=st.sem(GC1_GB))\n",
    "print(f'The 99% confidence interval for the mean blood glucose level of the young population is: {IC99}')\n"
   ]
  },
  {
   "cell_type": "markdown",
   "id": "4cf13735",
   "metadata": {},
   "source": [
    "For a 95% confidence interval, the possible mean ranges from [81.65,87.72].\n",
    "\n",
    "For a 99% confidence interval, the possible mean ranges from [80.61,88.76].\n",
    "\n",
    "It would only be possible to affirm that the mean glucose is 88 mg/dl in the 99% confidence interval, as the 95% confidence interval does not include this value."
   ]
  },
  {
   "cell_type": "markdown",
   "id": "6719ae6f",
   "metadata": {},
   "source": [
    "## Statistical hypothesis test\n",
    "\n",
    "### Mean in a normal population"
   ]
  },
  {
   "cell_type": "code",
   "execution_count": 97,
   "id": "10501cc3",
   "metadata": {},
   "outputs": [],
   "source": [
    "def stat_hypo_test(n: int, pop_mean: float, alpha: float, data, test_type: str):\n",
    "    \"\"\"\n",
    "    Perform hypothesis testing using one-sample t-test.\n",
    "\n",
    "    Parameters:\n",
    "        n (int): The number of samples in the data.\n",
    "        pop_mean (float): The hypothesized population mean.\n",
    "        alpha (float): The significance level.\n",
    "        data (array-like): The sample data.\n",
    "        test_type (str): Type of hypothesis test: 'bi' (two-tailed), '>' (right-tailed), '<' (left-tailed).\n",
    "\n",
    "    Returns:\n",
    "        tuple: A tuple containing the test statistic and p-value.\n",
    "    \"\"\"\n",
    "\n",
    "    if test_type not in ['bi', '>', '<']:\n",
    "        raise ValueError(\"Invalid test type. Use 'bi' for two-tailed test, '>' for right-tailed test, and '<' for left-tailed test.\")\n",
    "\n",
    "    if len(data) < 2:\n",
    "        raise ValueError(\"Data must contain at least two samples.\")\n",
    "    \n",
    "    if test_type == 'bi':\n",
    "        t,p = stats.ttest_1samp(data,pop_mean)\n",
    "        t_critical = stats.t.ppf(alpha/2, n-1)\n",
    "\n",
    "        print('|t| = ',abs(t))\n",
    "        print('|t_critical| = ',abs(t_critical))\n",
    "\n",
    "        if abs(t) > abs(t_critical):\n",
    "            print(f\"The null hypothesis is rejected at {(1-alpha)*100}% confidence level\")\n",
    "        else:\n",
    "            print(f\"The null hypothesis is accepted at {(1-alpha)*100}% confidence level\")\n",
    "\n",
    "    elif test_type == '>':\n",
    "        t,p = stats.ttest_1samp(data,pop_mean)\n",
    "        t_critical = stats.t.ppf(alpha, n-1)\n",
    "\n",
    "        print('|t| = ',t)\n",
    "        print('|t_critical| = ',t_critical)\n",
    "\n",
    "        if t < t_critical:\n",
    "            print(f\"The null hypothesis is rejected at {(1-alpha)*100}% confidence level\")\n",
    "        else:\n",
    "            print(f\"The null hypothesis is accepted at {(1-alpha)*100}% confidence level\")\n",
    "\n",
    "    elif test_type == '<':\n",
    "        t,p = stats.ttest_1samp(data,pop_mean)\n",
    "        t_critical = stats.t.ppf(alpha, n-1)\n",
    "\n",
    "        print('|t| = ',t)\n",
    "        print('|t_critical| = ',t_critical)\n",
    "\n",
    "        if t > t_critical:\n",
    "            print(f\"The null hypothesis is rejected at {(1-alpha)*100}% confidence level\")\n",
    "        else:\n",
    "            print(f\"The null hypothesis is accepted at {(1-alpha)*100}% confidence level\")"
   ]
  },
  {
   "cell_type": "markdown",
   "id": "0ea5fffd",
   "metadata": {},
   "source": [
    "H₀ : μ=88\n",
    "\n",
    "H₁ : μ≠88\n",
    "\n",
    "Confidence level = 95% & 99%\n",
    "\n",
    "If |t|<|t_critical| --> We accept the null hypothesis (We can state that mean is equal to 88)\n",
    "\n",
    "If |t|>|t_critical| --> We reject the null hypothesis (We can't state that mean is equal to 88)\n"
   ]
  },
  {
   "cell_type": "code",
   "execution_count": 101,
   "id": "689a4af8",
   "metadata": {},
   "outputs": [
    {
     "name": "stdout",
     "output_type": "stream",
     "text": [
      "|t| =  2.2169705753750004\n",
      "|t_critical| =  2.032244509317719\n",
      "The null hypothesis is rejected at 95.0% confidence level\n",
      "\n",
      "|t| =  2.2169705753750004\n",
      "|t_critical| =  2.728394367070662\n",
      "The null hypothesis is accepted at 99.0% confidence level\n"
     ]
    }
   ],
   "source": [
    "stat_hypo_test(n=35, pop_mean=88, alpha=0.05, data=GC1_GB, test_type='bi')\n",
    "print()\n",
    "stat_hypo_test(n=35, pop_mean=88, alpha=0.01, data=GC1_GB, test_type='bi')"
   ]
  },
  {
   "cell_type": "markdown",
   "id": "165d5a1f",
   "metadata": {},
   "source": [
    "Similarly to the confidence interval, the statistical hypothesis test indicates that at a 95% confidence level, the null hypothesis is rejected (μ=88), whereas at a 99% confidence level, it is accepted. Thus, we can only assert that the mean blood basal glucose level is 88 at a 99% confidence level."
   ]
  }
 ],
 "metadata": {
  "hide_input": false,
  "kernelspec": {
   "display_name": "Python 3 (ipykernel)",
   "language": "python",
   "name": "python3"
  },
  "language_info": {
   "codemirror_mode": {
    "name": "ipython",
    "version": 3
   },
   "file_extension": ".py",
   "mimetype": "text/x-python",
   "name": "python",
   "nbconvert_exporter": "python",
   "pygments_lexer": "ipython3",
   "version": "3.10.9"
  },
  "nbTranslate": {
   "displayLangs": [
    "*"
   ],
   "hotkey": "alt-t",
   "langInMainMenu": true,
   "sourceLang": "en",
   "targetLang": "fr",
   "useGoogleTranslate": true
  },
  "toc": {
   "base_numbering": 1,
   "nav_menu": {
    "height": "389.8px",
    "width": "803.2px"
   },
   "number_sections": true,
   "sideBar": true,
   "skip_h1_title": false,
   "title_cell": "Table of Contents",
   "title_sidebar": "Contents",
   "toc_cell": false,
   "toc_position": {},
   "toc_section_display": true,
   "toc_window_display": false
  },
  "varInspector": {
   "cols": {
    "lenName": 16,
    "lenType": 16,
    "lenVar": 40
   },
   "kernels_config": {
    "python": {
     "delete_cmd_postfix": "",
     "delete_cmd_prefix": "del ",
     "library": "var_list.py",
     "varRefreshCmd": "print(var_dic_list())"
    },
    "r": {
     "delete_cmd_postfix": ") ",
     "delete_cmd_prefix": "rm(",
     "library": "var_list.r",
     "varRefreshCmd": "cat(var_dic_list()) "
    }
   },
   "types_to_exclude": [
    "module",
    "function",
    "builtin_function_or_method",
    "instance",
    "_Feature"
   ],
   "window_display": false
  }
 },
 "nbformat": 4,
 "nbformat_minor": 5
}

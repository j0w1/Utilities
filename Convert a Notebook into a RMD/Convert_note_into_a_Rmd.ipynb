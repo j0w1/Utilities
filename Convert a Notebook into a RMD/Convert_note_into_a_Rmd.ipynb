{
 "cells": [
  {
   "cell_type": "markdown",
   "id": "6ec7ffa7",
   "metadata": {},
   "source": [
    "First of all, we load the file that we want to convert"
   ]
  },
  {
   "cell_type": "code",
   "execution_count": 3,
   "id": "a7ad0078",
   "metadata": {
    "ExecuteTime": {
     "end_time": "2023-06-27T15:10:20.275110Z",
     "start_time": "2023-06-27T15:10:20.206110Z"
    }
   },
   "outputs": [],
   "source": [
    "import json\n",
    "\n",
    "\n",
    "with open(\"Your_file_name.ipynb\", encoding = \"UTF-8\") as file:\n",
    "    data = json.load(file)"
   ]
  },
  {
   "cell_type": "markdown",
   "id": "326db92b",
   "metadata": {
    "ExecuteTime": {
     "end_time": "2023-12-05T20:25:16.988731Z",
     "start_time": "2023-12-05T20:25:16.970854Z"
    }
   },
   "source": [
    "We obtain some programming language info"
   ]
  },
  {
   "cell_type": "code",
   "execution_count": 4,
   "id": "f54cc767",
   "metadata": {
    "ExecuteTime": {
     "end_time": "2023-06-27T15:10:32.125321Z",
     "start_time": "2023-06-27T15:10:32.117653Z"
    }
   },
   "outputs": [],
   "source": [
    "# get the programming language info\n",
    "programming_language = data[\"metadata\"][\"kernelspec\"][\"language\"]"
   ]
  },
  {
   "cell_type": "markdown",
   "id": "13dae29f",
   "metadata": {},
   "source": [
    "Now, the necessary information for each cell"
   ]
  },
  {
   "cell_type": "code",
   "execution_count": 5,
   "id": "ed18baf8",
   "metadata": {
    "ExecuteTime": {
     "end_time": "2023-06-27T15:10:42.437203Z",
     "start_time": "2023-06-27T15:10:42.433936Z"
    }
   },
   "outputs": [],
   "source": [
    "# list comprehension to get the necessary information for each cell:\n",
    "cells = [ [x[\"cell_type\"], x[\"source\"]] for x in data[\"cells\"] ]"
   ]
  },
  {
   "cell_type": "markdown",
   "id": "01295f87",
   "metadata": {},
   "source": [
    "Finally, we set up the style "
   ]
  },
  {
   "cell_type": "code",
   "execution_count": 6,
   "id": "f56e1a4f",
   "metadata": {
    "ExecuteTime": {
     "end_time": "2023-06-27T15:14:18.736886Z",
     "start_time": "2023-06-27T15:14:18.732837Z"
    }
   },
   "outputs": [],
   "source": [
    "author = \"Your name\"\n",
    "date = \"Date\"\n",
    "\n",
    "yaml_config = f\"\"\"---\n",
    "title: |\n",
    "  <center>Tarea módulo VII</center>  \n",
    "  <center>Minería de datos</center>\n",
    "  <br />\n",
    "author: |\n",
    "  <p style=\"float: right\">{author}</p>\n",
    "  <br />\n",
    "date: |\n",
    "  <p style=\"float: right\">{date}</p>\n",
    "  <br />\n",
    "output:\n",
    "  html_document:\n",
    "    highlight: textmate\n",
    "    theme: flatly\n",
    "    number_sections: yes\n",
    "    toc: yes\n",
    "    toc_float:\n",
    "      collapse: yes\n",
    "      smooth_scroll: yes\n",
    "---\n",
    "\"\"\"\n",
    "\n",
    "file_text = yaml_config"
   ]
  },
  {
   "cell_type": "markdown",
   "id": "870b179a",
   "metadata": {},
   "source": [
    "and we add the block of code"
   ]
  },
  {
   "cell_type": "code",
   "execution_count": 7,
   "id": "df0c7717",
   "metadata": {
    "ExecuteTime": {
     "end_time": "2023-06-27T15:15:09.124018Z",
     "start_time": "2023-06-27T15:15:09.106326Z"
    }
   },
   "outputs": [],
   "source": [
    "for cell_type, source in cells:\n",
    "    if cell_type == \"markdown\" and source:\n",
    "        file_text += \"\".join(source) + \"\\n\\n\"\n",
    "    elif cell_type == \"code\" and source:\n",
    "        code_block = (\n",
    "f\"\"\"```{{{programming_language}}}\n",
    "{''.join(source)}\n",
    "```\\n\\n\"\"\"\n",
    "        )\n",
    "        \n",
    "        file_text += code_block + \"\\n\\n\"\n",
    "        \n",
    "        \n",
    "with open(\"converted_notebook.Rmd\", \"w\", encoding = \"UTF-8\") as file:\n",
    "    file.write(file_text)"
   ]
  },
  {
   "cell_type": "markdown",
   "id": "6c75b53f",
   "metadata": {},
   "source": [
    "Now, we have our RMD file"
   ]
  }
 ],
 "metadata": {
  "hide_input": false,
  "kernelspec": {
   "display_name": "Python 3 (ipykernel)",
   "language": "python",
   "name": "python3"
  },
  "language_info": {
   "codemirror_mode": {
    "name": "ipython",
    "version": 3
   },
   "file_extension": ".py",
   "mimetype": "text/x-python",
   "name": "python",
   "nbconvert_exporter": "python",
   "pygments_lexer": "ipython3",
   "version": "3.10.9"
  },
  "toc": {
   "base_numbering": 1,
   "nav_menu": {},
   "number_sections": true,
   "sideBar": true,
   "skip_h1_title": false,
   "title_cell": "Table of Contents",
   "title_sidebar": "Contents",
   "toc_cell": false,
   "toc_position": {},
   "toc_section_display": true,
   "toc_window_display": false
  },
  "varInspector": {
   "cols": {
    "lenName": 16,
    "lenType": 16,
    "lenVar": 40
   },
   "kernels_config": {
    "python": {
     "delete_cmd_postfix": "",
     "delete_cmd_prefix": "del ",
     "library": "var_list.py",
     "varRefreshCmd": "print(var_dic_list())"
    },
    "r": {
     "delete_cmd_postfix": ") ",
     "delete_cmd_prefix": "rm(",
     "library": "var_list.r",
     "varRefreshCmd": "cat(var_dic_list()) "
    }
   },
   "types_to_exclude": [
    "module",
    "function",
    "builtin_function_or_method",
    "instance",
    "_Feature"
   ],
   "window_display": false
  }
 },
 "nbformat": 4,
 "nbformat_minor": 5
}
